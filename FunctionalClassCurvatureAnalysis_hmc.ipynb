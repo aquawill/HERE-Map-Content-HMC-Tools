{
 "cells": [
  {
   "cell_type": "markdown",
   "metadata": {
    "pycharm": {}
   },
   "source": [
    "# Functional Class and Curvature Analysis\n",
    "This notebook illustrates the complete analysis example using Here Map Content (HMC) attributes.\n",
    "\n",
    "### Dependencies\n",
    "* Catalogs: [rib-2](https://platform.here.com/data/hrn:here:data::olp-here:rib-2)\n",
    "* Layers: [Topology Geometry](https://platform.here.com/data/hrn:here:data::olp-here:rib-2/topology-geometry), [Road Attributes](https://platform.here.com/data/hrn:here:data::olp-here:rib-2/road-attributes), [ADAS Attributes](https://platform.here.com/data/hrn:here:data::olp-here:rib-2/adas-attributes)\n",
    "\n",
    "### Workflow\n",
    "* Start with a bounding box that contains portions of two tiles\n",
    "* Extract geometry for the two tiles\n",
    "* Keep only the segments that are (at least partially) in original bounding box\n",
    "* Extract Functional Class (FC) attributes for those segments\n",
    "* Select segments with FC = 3, 4, and 5\n",
    "* Extract curvature for the survived segments\n",
    "* Analyze average curvature\n",
    "* Drop segments below the average curvature"
   ]
  },
  {
   "cell_type": "markdown",
   "metadata": {
    "pycharm": {}
   },
   "source": [
    "## Get partition ID's from a given bounding box"
   ]
  },
  {
   "cell_type": "code",
   "execution_count": 1,
   "metadata": {
    "pycharm": {
     "is_executing": false
    }
   },
   "outputs": [
    {
     "name": "stdout",
     "output_type": "stream",
     "text": [
      "tileIds: [23618402, 23618403]\n"
     ]
    }
   ],
   "source": [
    "from here.geotiles.heretile import in_bounding_box\n",
    "from shapely.geometry import Point\n",
    "\n",
    "zoom_level = 12\n",
    "west = 13.41\n",
    "east = 13.49\n",
    "south = 52.50\n",
    "north = 52.54\n",
    "center = Point(west, south)\n",
    "tileIds = list(in_bounding_box(west=west, south=south, east=east, north=north, level=zoom_level))\n",
    "print(\"tileIds:\", tileIds)\n",
    "\n",
    "# partition ID's: string representation of tile IDs - this will be used for extracting attributes later\n",
    "pids = [str(tile) for tile in tileIds]"
   ]
  },
  {
   "cell_type": "markdown",
   "metadata": {},
   "source": [
    "## Visualize the bounding box and tile boundaries\n",
    "- bounding box: Red\n",
    "- tile boundaries: Gray"
   ]
  },
  {
   "cell_type": "code",
   "execution_count": 2,
   "metadata": {},
   "outputs": [
    {
     "ename": "KeyError",
     "evalue": "'LS_API_KEY'",
     "output_type": "error",
     "traceback": [
      "\u001b[1;31m---------------------------------------------------------------------------\u001b[0m",
      "\u001b[1;31mKeyError\u001b[0m                                  Traceback (most recent call last)",
      "Cell \u001b[1;32mIn[2], line 9\u001b[0m\n\u001b[0;32m      6\u001b[0m bb_polygon \u001b[38;5;241m=\u001b[39m Polygon([(west, south), (west, north), (east, north), (east, south), (west, south)])\n\u001b[0;32m      8\u001b[0m \u001b[38;5;66;03m# create inspect object with tile boundaries and the bounding box\u001b[39;00m\n\u001b[1;32m----> 9\u001b[0m \u001b[43minspect\u001b[49m\u001b[43m(\u001b[49m\u001b[43mlayers\u001b[49m\u001b[38;5;241;43m=\u001b[39;49m\u001b[43m{\u001b[49m\u001b[38;5;124;43m\"\u001b[39;49m\u001b[38;5;124;43mbounding_box\u001b[39;49m\u001b[38;5;124;43m\"\u001b[39;49m\u001b[43m:\u001b[49m\u001b[43m \u001b[49m\u001b[43m[\u001b[49m\u001b[43mbb_polygon\u001b[49m\u001b[43m]\u001b[49m\u001b[43m}\u001b[49m\u001b[43m,\u001b[49m\n\u001b[0;32m     10\u001b[0m \u001b[43m        \u001b[49m\u001b[43mtiles\u001b[49m\u001b[38;5;241;43m=\u001b[39;49m\u001b[43mtileIds\u001b[49m\u001b[43m,\u001b[49m\n\u001b[0;32m     11\u001b[0m \u001b[43m        \u001b[49m\u001b[43mcenter\u001b[49m\u001b[38;5;241;43m=\u001b[39;49m\u001b[43mcenter\u001b[49m\u001b[43m,\u001b[49m\n\u001b[0;32m     12\u001b[0m \u001b[43m        \u001b[49m\u001b[43mzoom\u001b[49m\u001b[38;5;241;43m=\u001b[39;49m\u001b[38;5;241;43m11\u001b[39;49m\u001b[43m,\u001b[49m\n\u001b[0;32m     13\u001b[0m \u001b[43m        \u001b[49m\u001b[43mlayers_style\u001b[49m\u001b[38;5;241;43m=\u001b[39;49m\u001b[43m{\u001b[49m\u001b[38;5;124;43m\"\u001b[39;49m\u001b[38;5;124;43mbounding_box\u001b[39;49m\u001b[38;5;124;43m\"\u001b[39;49m\u001b[43m:\u001b[49m\u001b[43m \u001b[49m\u001b[43mColor\u001b[49m\u001b[38;5;241;43m.\u001b[39;49m\u001b[43mRED\u001b[49m\u001b[43m}\u001b[49m\u001b[43m,\u001b[49m\n\u001b[0;32m     14\u001b[0m \u001b[43m        \u001b[49m\u001b[43mtiles_style\u001b[49m\u001b[38;5;241;43m=\u001b[39;49m\u001b[43mColor\u001b[49m\u001b[38;5;241;43m.\u001b[39;49m\u001b[43mGRAY\u001b[49m\u001b[43m)\u001b[49m\n",
      "File \u001b[1;32m~\\PycharmProjects\\here_python_sdk_test_project\\venv\\lib\\site-packages\\here\\inspector\\__init__.py:101\u001b[0m, in \u001b[0;36minspect\u001b[1;34m(features, name, style, layers, layers_style, tiles, tiles_style, center, zoom, theme)\u001b[0m\n\u001b[0;32m     29\u001b[0m \u001b[38;5;28;01mdef\u001b[39;00m \u001b[38;5;21minspect\u001b[39m(\n\u001b[0;32m     30\u001b[0m     features: Optional[Features] \u001b[38;5;241m=\u001b[39m \u001b[38;5;28;01mNone\u001b[39;00m,\n\u001b[0;32m     31\u001b[0m     name\u001b[38;5;241m=\u001b[39m\u001b[38;5;28;01mNone\u001b[39;00m,\n\u001b[1;32m   (...)\u001b[0m\n\u001b[0;32m     44\u001b[0m     theme: Optional[Theme] \u001b[38;5;241m=\u001b[39m \u001b[38;5;28;01mNone\u001b[39;00m,\n\u001b[0;32m     45\u001b[0m ):\n\u001b[0;32m     46\u001b[0m \u001b[38;5;250m    \u001b[39m\u001b[38;5;124;03m\"\"\"\u001b[39;00m\n\u001b[0;32m     47\u001b[0m \u001b[38;5;124;03m    Shorthand function to instantiate, configure and show the inspector.\u001b[39;00m\n\u001b[0;32m     48\u001b[0m \n\u001b[1;32m   (...)\u001b[0m\n\u001b[0;32m     99\u001b[0m \u001b[38;5;124;03m    :raises ValueError: in case the combination of input parameters is not supported\u001b[39;00m\n\u001b[0;32m    100\u001b[0m \u001b[38;5;124;03m    \"\"\"\u001b[39;00m\n\u001b[1;32m--> 101\u001b[0m     inspector \u001b[38;5;241m=\u001b[39m \u001b[43mnew_inspector\u001b[49m\u001b[43m(\u001b[49m\u001b[43m)\u001b[49m\n\u001b[0;32m    103\u001b[0m     \u001b[38;5;28;01mif\u001b[39;00m features \u001b[38;5;129;01mis\u001b[39;00m \u001b[38;5;129;01mnot\u001b[39;00m \u001b[38;5;28;01mNone\u001b[39;00m:\n\u001b[0;32m    104\u001b[0m         \u001b[38;5;66;03m# features is a set of geofeatures\u001b[39;00m\n\u001b[0;32m    105\u001b[0m         inspector\u001b[38;5;241m.\u001b[39madd_features(features\u001b[38;5;241m=\u001b[39mfeatures, name\u001b[38;5;241m=\u001b[39mname, style\u001b[38;5;241m=\u001b[39mstyle)\n",
      "File \u001b[1;32m~\\PycharmProjects\\here_python_sdk_test_project\\venv\\lib\\site-packages\\here\\inspector\\__init__.py:156\u001b[0m, in \u001b[0;36mnew_inspector\u001b[1;34m()\u001b[0m\n\u001b[0;32m    148\u001b[0m \u001b[38;5;250m\u001b[39m\u001b[38;5;124;03m\"\"\"\u001b[39;00m\n\u001b[0;32m    149\u001b[0m \u001b[38;5;124;03mInstantiate a new inspector.\u001b[39;00m\n\u001b[0;32m    150\u001b[0m \n\u001b[0;32m    151\u001b[0m \u001b[38;5;124;03m:return: A new inspector.\u001b[39;00m\n\u001b[0;32m    152\u001b[0m \u001b[38;5;124;03m:raises ValueError: If invalid ``inspector_class`` attribute is set in ``options``.\u001b[39;00m\n\u001b[0;32m    153\u001b[0m \u001b[38;5;124;03m\"\"\"\u001b[39;00m\n\u001b[0;32m    155\u001b[0m \u001b[38;5;28;01mif\u001b[39;00m options\u001b[38;5;241m.\u001b[39minspector_class \u001b[38;5;129;01mis\u001b[39;00m \u001b[38;5;28;01mNone\u001b[39;00m:\n\u001b[1;32m--> 156\u001b[0m     options\u001b[38;5;241m.\u001b[39mapi_key \u001b[38;5;241m=\u001b[39m \u001b[43mos\u001b[49m\u001b[38;5;241;43m.\u001b[39;49m\u001b[43menviron\u001b[49m\u001b[43m[\u001b[49m\u001b[38;5;124;43m\"\u001b[39;49m\u001b[38;5;124;43mLS_API_KEY\u001b[39;49m\u001b[38;5;124;43m\"\u001b[39;49m\u001b[43m]\u001b[49m\n\u001b[0;32m    157\u001b[0m     \u001b[38;5;28;01mreturn\u001b[39;00m HEREMapInspector()\n\u001b[0;32m    158\u001b[0m \u001b[38;5;28;01melif\u001b[39;00m options\u001b[38;5;241m.\u001b[39minspector_class\u001b[38;5;241m.\u001b[39m\u001b[38;5;18m__name__\u001b[39m \u001b[38;5;241m==\u001b[39m \u001b[38;5;124m\"\u001b[39m\u001b[38;5;124mIpyleafletInspector\u001b[39m\u001b[38;5;124m\"\u001b[39m:\n",
      "File \u001b[1;32m~\\AppData\\Local\\Programs\\Python\\Python310\\lib\\os.py:679\u001b[0m, in \u001b[0;36m_Environ.__getitem__\u001b[1;34m(self, key)\u001b[0m\n\u001b[0;32m    676\u001b[0m     value \u001b[38;5;241m=\u001b[39m \u001b[38;5;28mself\u001b[39m\u001b[38;5;241m.\u001b[39m_data[\u001b[38;5;28mself\u001b[39m\u001b[38;5;241m.\u001b[39mencodekey(key)]\n\u001b[0;32m    677\u001b[0m \u001b[38;5;28;01mexcept\u001b[39;00m \u001b[38;5;167;01mKeyError\u001b[39;00m:\n\u001b[0;32m    678\u001b[0m     \u001b[38;5;66;03m# raise KeyError with the original key value\u001b[39;00m\n\u001b[1;32m--> 679\u001b[0m     \u001b[38;5;28;01mraise\u001b[39;00m \u001b[38;5;167;01mKeyError\u001b[39;00m(key) \u001b[38;5;28;01mfrom\u001b[39;00m \u001b[38;5;28;01mNone\u001b[39;00m\n\u001b[0;32m    680\u001b[0m \u001b[38;5;28;01mreturn\u001b[39;00m \u001b[38;5;28mself\u001b[39m\u001b[38;5;241m.\u001b[39mdecodevalue(value)\n",
      "\u001b[1;31mKeyError\u001b[0m: 'LS_API_KEY'"
     ]
    }
   ],
   "source": [
    "from here.inspector import inspect\n",
    "from here.inspector.styles import Color\n",
    "from shapely.geometry import Polygon\n",
    "\n",
    "# construct a bounding box geojson\n",
    "bb_polygon = Polygon([(west, south), (west, north), (east, north), (east, south), (west, south)])\n",
    "\n",
    "# create inspect object with tile boundaries and the bounding box\n",
    "inspect(layers={\"bounding_box\": [bb_polygon]},\n",
    "        tiles=tileIds,\n",
    "        center=center,\n",
    "        zoom=11,\n",
    "        layers_style={\"bounding_box\": Color.RED},\n",
    "        tiles_style=Color.GRAY)"
   ]
  },
  {
   "cell_type": "markdown",
   "metadata": {},
   "source": [
    "## Extract topology geometry and clip by bounding box"
   ]
  },
  {
   "cell_type": "code",
   "execution_count": null,
   "metadata": {},
   "outputs": [],
   "source": [
    "from here.platform import Platform\n",
    "from here.content.hmc.hmc import HMC\n",
    "from here.geopandas_adapter import GeoPandasAdapter\n",
    "import pandas as pd\n",
    "import geopandas as gpd\n",
    "\n",
    "# create HMC object\n",
    "hmc = HMC(Platform(adapter=GeoPandasAdapter()))"
   ]
  },
  {
   "cell_type": "code",
   "execution_count": null,
   "metadata": {},
   "outputs": [],
   "source": [
    "# get segments dataframe from given tiles\n",
    "dfs = []\n",
    "for tid in tileIds:\n",
    "    dfs.append(hmc.topology_geometry.get_segments(tid))\n",
    "segment_df = pd.concat(dfs)\n",
    "segment_df"
   ]
  },
  {
   "cell_type": "markdown",
   "metadata": {},
   "source": [
    "### Clip segments by the bounding box\n",
    "Since the geometry objects for the segment dataframe is LineString, the intersection method will do the clipping. See the documentation of shapely: https://shapely.readthedocs.io/en/stable/manual.html"
   ]
  },
  {
   "cell_type": "code",
   "execution_count": null,
   "metadata": {},
   "outputs": [],
   "source": [
    "clipped_segments = segment_df.intersection(bb_polygon)\n",
    "segment_in_bb = segment_df[clipped_segments.apply(lambda x: x.length != 0)]"
   ]
  },
  {
   "cell_type": "code",
   "execution_count": null,
   "metadata": {},
   "outputs": [],
   "source": [
    "# show the clipped segments and original tile boundaries\n",
    "inspect(features=segment_in_bb[\"geometry\"], tiles=tileIds, tiles_style=Color.GRAY)"
   ]
  },
  {
   "cell_type": "markdown",
   "metadata": {},
   "source": [
    "## Get functional class attribute"
   ]
  },
  {
   "cell_type": "code",
   "execution_count": null,
   "metadata": {},
   "outputs": [],
   "source": [
    "# get functional_class attributes\n",
    "fcs = []\n",
    "for pid in pids:\n",
    "    fcs.append(hmc.road_attributes.get_attribute(pid, \"functional_class\"))\n",
    "fc_df = pd.concat(fcs)\n",
    "\n",
    "# create a column called fc from attribute and drop attribute column\n",
    "fc_df[\"fc\"] = fc_df.apply(lambda x: x[\"attribute\"].functional_class, axis=1)\n",
    "fc_df = fc_df.drop([\"attribute\"], axis=1)"
   ]
  },
  {
   "cell_type": "markdown",
   "metadata": {},
   "source": [
    "## Select FC = 3, 4, or 5"
   ]
  },
  {
   "cell_type": "code",
   "execution_count": null,
   "metadata": {},
   "outputs": [],
   "source": [
    "# select FC = 3, 4, 5\n",
    "fc345_df = fc_df[fc_df[\"fc\"] > 2]"
   ]
  },
  {
   "cell_type": "code",
   "execution_count": null,
   "metadata": {},
   "outputs": [],
   "source": [
    "# change partitionId type as string to be consistent with the one in attributes \n",
    "segment_in_bb = segment_in_bb.astype({\"partitionId\": str})\n",
    "segment_in_bb.dtypes"
   ]
  },
  {
   "cell_type": "code",
   "execution_count": null,
   "metadata": {},
   "outputs": [],
   "source": [
    "# join two dataframe by partitionId, segmentId\n",
    "segment_fc345_df = segment_in_bb.merge(fc345_df, how=\"inner\", left_on=[\"partitionId\", \"identifier\"],\n",
    "                                       right_on=[\"partitionId\", \"segmentId\"])\n",
    "segment_fc345_df = segment_fc345_df.drop(\"identifier\", axis=1)\n",
    "segment_fc345_df.columns"
   ]
  },
  {
   "cell_type": "markdown",
   "metadata": {},
   "source": [
    "## Show the segments with FC = 3, 4, or 5"
   ]
  },
  {
   "cell_type": "code",
   "execution_count": null,
   "metadata": {},
   "outputs": [],
   "source": [
    "inspect(segment_fc345_df[\"geometry\"])"
   ]
  },
  {
   "cell_type": "markdown",
   "metadata": {},
   "source": [
    "## Show different colors for each FC"
   ]
  },
  {
   "cell_type": "code",
   "execution_count": null,
   "metadata": {},
   "outputs": [],
   "source": [
    "fcs = {}\n",
    "for fc, gdf in segment_fc345_df.groupby(\"fc\"):\n",
    "    fcs[fc] = gdf[\"geometry\"]\n",
    "inspect(layers=fcs)"
   ]
  },
  {
   "cell_type": "markdown",
   "metadata": {},
   "source": [
    "## Extract curvatures"
   ]
  },
  {
   "cell_type": "code",
   "execution_count": null,
   "metadata": {},
   "outputs": [],
   "source": [
    "# get segment curvatures (curvatures at the nodes are not used in this notebook example)\n",
    "segment_curvatures = []\n",
    "for pid in pids:\n",
    "    segment_curvature, node_curvature = hmc.adas_attributes.get_attribute(pid, \"curvature_heading\")\n",
    "    segment_curvatures.append(segment_curvature)\n",
    "segment_curvature_df = pd.concat(segment_curvatures)\n",
    "\n",
    "# create a column called curvature from attribute and drop attribute column\n",
    "segment_curvature_df[\"curvature\"] = segment_curvature_df.apply(lambda x: x[\"attribute\"].curvature, axis=1)\n",
    "segment_curvature_df = segment_curvature_df.drop(\"attribute\", axis=1)\n",
    "segment_curvature_df"
   ]
  },
  {
   "cell_type": "markdown",
   "metadata": {},
   "source": [
    "## Select segments with high curvatures"
   ]
  },
  {
   "cell_type": "code",
   "execution_count": null,
   "metadata": {},
   "outputs": [],
   "source": [
    "# create a column called abs_curvature to calculate average curvature\n",
    "segment_curvature_df[\"abs_curvature\"] = segment_curvature_df.apply(lambda x: abs(x[\"curvature\"]), axis=1)\n",
    "average_curvature = segment_curvature_df[\"abs_curvature\"].mean()\n",
    "\n",
    "# select segments with curvature higher than average\n",
    "highcurv_segments = segment_curvature_df[segment_curvature_df[\"abs_curvature\"] > average_curvature]"
   ]
  },
  {
   "cell_type": "markdown",
   "metadata": {},
   "source": [
    "## Join two dataframes\n",
    "Inner join between the dataframe with FC=3,4,5 and the dataframe with high curvatures"
   ]
  },
  {
   "cell_type": "code",
   "execution_count": null,
   "metadata": {},
   "outputs": [],
   "source": [
    "# join two dataframe\n",
    "segment_fc345_highcurv_df = segment_fc345_df.merge(highcurv_segments, on=[\"partitionId\", \"segmentId\"])"
   ]
  },
  {
   "cell_type": "code",
   "execution_count": null,
   "metadata": {},
   "outputs": [],
   "source": [
    "# drop abs_curvature which was used to calculate average curvature\n",
    "merged_df = segment_fc345_highcurv_df.drop(\"abs_curvature\", axis=1)\n",
    "merged_df.columns"
   ]
  },
  {
   "cell_type": "markdown",
   "metadata": {},
   "source": [
    "## Cleanup the merged dataframe\n",
    "After merging two dataframe above, the result was quite duplicated. We want to have entries with start_offset <= offset <= end_offset"
   ]
  },
  {
   "cell_type": "code",
   "execution_count": null,
   "metadata": {},
   "outputs": [],
   "source": [
    "df = merged_df[((merged_df[\"start_offset\"] <= merged_df[\"offset\"]) &\n",
    "               (merged_df[\"offset\"] <= merged_df[\"end_offset\"]))]"
   ]
  },
  {
   "cell_type": "markdown",
   "metadata": {},
   "source": [
    "## Show the survived segments"
   ]
  },
  {
   "cell_type": "code",
   "execution_count": null,
   "metadata": {},
   "outputs": [],
   "source": [
    "inspect(df[\"geometry\"])"
   ]
  },
  {
   "cell_type": "markdown",
   "metadata": {},
   "source": [
    "<span style=\"float:left; margin-top:3px;\"><img src=\"https://www.here.com/themes/custom/here_base_theme_v2/logo.svg\" alt=\"HERE Logo\" height=\"60\" width=\"60\"></span><span style=\"float:right; width:90%;\"><sub><b>Copyright (c) 2020-2021 HERE Global B.V. and its affiliate(s). All rights reserved.</b>\n",
    "This software, including documentation, is protected by copyright controlled by HERE. All rights are reserved. Copying, including reproducing, storing, adapting or translating, any or all of this material requires the prior written consent of HERE. This material also contains confidential information which may not be disclosed to others without the prior written consent of HERE.</sub></span>"
   ]
  }
 ],
 "metadata": {
  "kernelspec": {
   "display_name": "Python 3 (ipykernel)",
   "language": "python",
   "name": "python3"
  },
  "language_info": {
   "codemirror_mode": {
    "name": "ipython",
    "version": 3
   },
   "file_extension": ".py",
   "mimetype": "text/x-python",
   "name": "python",
   "nbconvert_exporter": "python",
   "pygments_lexer": "ipython3",
   "version": "3.10.5"
  }
 },
 "nbformat": 4,
 "nbformat_minor": 4
}
